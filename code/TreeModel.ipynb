{
 "cells": [
  {
   "cell_type": "code",
   "execution_count": 45,
   "metadata": {},
   "outputs": [],
   "source": [
    "# -*- coding: utf-8 -*-\n",
    "import pandas as pd\n",
    "import numpy as np\n",
    "import lightgbm as lgb\n",
    "from sklearn import metrics\n",
    "import matplotlib.pyplot as plt\n",
    "import seaborn as sns\n",
    "from sklearn import model_selection\n",
    "import copy"
   ]
  },
  {
   "cell_type": "code",
   "execution_count": 54,
   "metadata": {},
   "outputs": [],
   "source": [
    "train = pd.read_csv('../data/train_featureV3.csv',encoding='utf-8')\n",
    "test = pd.read_csv('../data/test_featureV3.csv',encoding='utf-8')"
   ]
  },
  {
   "cell_type": "code",
   "execution_count": 55,
   "metadata": {},
   "outputs": [],
   "source": [
    "def getUseColumn(data):\n",
    "    d = copy.deepcopy(data)\n",
    "    k = d.var()\n",
    "    # print k\n",
    "    print k[(k == np.nan) | (k == 0)].index.values\n",
    "    col1 = k[(k != np.nan) & (k != 0)].index.values\n",
    "    return col1"
   ]
  },
  {
   "cell_type": "code",
   "execution_count": 56,
   "metadata": {},
   "outputs": [
    {
     "name": "stdout",
     "output_type": "stream",
     "text": [
      "[u'voice_opp_len_18' u'voice_opp_len_25'\n",
      " u'voice_opp_len_opp_num_unique_18' ...\n",
      " u'voice_sms_each_opp_head_count_893' u'voice_sms_each_opp_head_count_955'\n",
      " u'voice_sms_each_opp_head_count_991']\n"
     ]
    }
   ],
   "source": [
    "train_x = train.drop(['uid','label'],axis=1)\n",
    "test_x = test.drop(['uid'],axis=1)\n",
    "use_cols = getUseColumn(train_x)\n",
    "\n",
    "dtrain_all = lgb.Dataset(train_x[use_cols].values,label=train.label)\n",
    "#dtrain_all = lgb.Dataset(train[feat_imp[0:50]['feat'].values].values,label=train.label)\n",
    "\n",
    "\n",
    "#dtrain = lgb.Dataset(X_train,label=y_train)\n",
    "#dvalid = lgb.Dataset(X_test,label=y_test)\n",
    "#dtest = lgb.Dataset(test[feat_imp[0:50]['feat'].values].values)\n",
    "dtest = lgb.Dataset(test_x[use_cols].values)"
   ]
  },
  {
   "cell_type": "code",
   "execution_count": 49,
   "metadata": {},
   "outputs": [
    {
     "data": {
      "text/plain": [
       "(4999, 6817)"
      ]
     },
     "execution_count": 49,
     "metadata": {},
     "output_type": "execute_result"
    }
   ],
   "source": [
    "train_x.shape"
   ]
  },
  {
   "cell_type": "code",
   "execution_count": 50,
   "metadata": {},
   "outputs": [],
   "source": [
    "lgb_params =  {\n",
    "    'boosting_type': 'gbdt',\n",
    "    'objective': 'binary',\n",
    " #  'metric': ('auc', 'f1'),\n",
    "    #'metric_freq': 100,\n",
    "    'is_training_metric': False,\n",
    "    'min_data_in_leaf': 12,\n",
    "    'num_leaves': 256,\n",
    "    'learning_rate': 0.05,\n",
    "    'feature_fraction': 0.9,\n",
    "    'bagging_fraction': 0.9,\n",
    "    'verbosity':-1,\n",
    "    #    'gpu_device_id':2,\n",
    "#    'device':'gpu',\n",
    "#     'lambda_l1': 0.1,\n",
    "#    'skip_drop': 0.95,\n",
    "#    'max_drop' : 10\n",
    "#     'lambda_l2': 0.1\n",
    "    #'num_threads': 18\n",
    "#     'eta':0.07\n",
    "}\n",
    "\n"
   ]
  },
  {
   "cell_type": "code",
   "execution_count": 51,
   "metadata": {},
   "outputs": [],
   "source": [
    "def evalMetric(preds,dtrain):\n",
    "    \n",
    "    label = dtrain.get_label()\n",
    "    \n",
    "    \n",
    "    pre = pd.DataFrame({'preds':preds,'label':label})\n",
    "    pre= pre.sort_values(by='preds',ascending=False)\n",
    "    \n",
    "    auc = metrics.roc_auc_score(pre.label,pre.preds)\n",
    "    index = int(len(preds) *0.18)\n",
    "    \n",
    "    \n",
    "    pre.preds[0:index] =1\n",
    "    pre.preds[index:] =0\n",
    "    \n",
    "   # pre.preds=pre.preds.map(lambda x: 1 if x>=0.5 else 0)\n",
    "\n",
    "    f1 = metrics.f1_score(pre.label,pre.preds)\n",
    "    \n",
    "   # print 'auc:%f---------f1:%f'%(auc,f1)\n",
    "    \n",
    "    \n",
    "    res = 0.6*auc +0.4*f1\n",
    "    \n",
    "    return 'res',res,True\n",
    "    \n",
    "    \n",
    "\n",
    "def auc(preds,dtrain):\n",
    "    label = dtrain.get_label()\n",
    "    \n",
    "    \n",
    "    pre = pd.DataFrame({'preds':preds,'label':label})\n",
    "    pre= pre.sort_values(by='preds',ascending=False)\n",
    "    \n",
    "    auc = metrics.roc_auc_score(pre.label,pre.preds)\n",
    "    \n",
    "    return 'auc',auc,True\n",
    "\n",
    "\n",
    "def f1(preds,dtrain):\n",
    "    label = dtrain.get_label()\n",
    "    \n",
    "    \n",
    "    pre = pd.DataFrame({'preds':preds,'label':label})\n",
    "    pre= pre.sort_values(by='preds',ascending=False)\n",
    "    \n",
    "    index = int(len(preds) *0.18)\n",
    "    \n",
    "    \n",
    "    pre.preds[0:index] =1\n",
    "    pre.preds[index:] =0\n",
    "    \n",
    "\n",
    "    f1 = metrics.f1_score(pre.label,pre.preds)\n",
    "    \n",
    "    \n",
    "    return 'f1',f1,True\n",
    "    \n",
    "    \n",
    "    \n",
    "    "
   ]
  },
  {
   "cell_type": "code",
   "execution_count": 52,
   "metadata": {
    "scrolled": false
   },
   "outputs": [
    {
     "name": "stderr",
     "output_type": "stream",
     "text": [
      "/usr/local/lib/python2.7/dist-packages/ipykernel_launcher.py:13: SettingWithCopyWarning: \n",
      "A value is trying to be set on a copy of a slice from a DataFrame\n",
      "\n",
      "See the caveats in the documentation: http://pandas.pydata.org/pandas-docs/stable/indexing.html#indexing-view-versus-copy\n",
      "  del sys.path[0]\n",
      "/usr/local/lib/python2.7/dist-packages/ipykernel_launcher.py:14: SettingWithCopyWarning: \n",
      "A value is trying to be set on a copy of a slice from a DataFrame\n",
      "\n",
      "See the caveats in the documentation: http://pandas.pydata.org/pandas-docs/stable/indexing.html#indexing-view-versus-copy\n",
      "  \n"
     ]
    },
    {
     "name": "stdout",
     "output_type": "stream",
     "text": [
      "[10]\tcv_agg's res: 0.839911 + 0.00376391\tcv_agg's auc: 0.928215 + 0.00378463\n",
      "[20]\tcv_agg's res: 0.847893 + 0.00715504\tcv_agg's auc: 0.932618 + 0.00675313\n",
      "[30]\tcv_agg's res: 0.852002 + 0.00669625\tcv_agg's auc: 0.935756 + 0.00522615\n",
      "[40]\tcv_agg's res: 0.854175 + 0.00600323\tcv_agg's auc: 0.937155 + 0.00419292\n",
      "[50]\tcv_agg's res: 0.858107 + 0.00557947\tcv_agg's auc: 0.94 + 0.00339179\n",
      "[60]\tcv_agg's res: 0.859881 + 0.00551541\tcv_agg's auc: 0.942957 + 0.00329419\n",
      "[70]\tcv_agg's res: 0.862413 + 0.00329366\tcv_agg's auc: 0.944953 + 0.00267238\n",
      "[80]\tcv_agg's res: 0.864363 + 0.00593388\tcv_agg's auc: 0.945976 + 0.00247281\n",
      "[90]\tcv_agg's res: 0.86661 + 0.00557191\tcv_agg's auc: 0.946755 + 0.00269796\n",
      "[100]\tcv_agg's res: 0.866009 + 0.00603467\tcv_agg's auc: 0.947237 + 0.00269985\n",
      "[110]\tcv_agg's res: 0.866101 + 0.00579519\tcv_agg's auc: 0.94739 + 0.00232926\n",
      "[120]\tcv_agg's res: 0.866436 + 0.00629509\tcv_agg's auc: 0.947948 + 0.00258401\n",
      "[130]\tcv_agg's res: 0.865773 + 0.00580196\tcv_agg's auc: 0.948326 + 0.00219183\n",
      "[140]\tcv_agg's res: 0.865451 + 0.00628025\tcv_agg's auc: 0.94853 + 0.00228953\n",
      "[150]\tcv_agg's res: 0.864684 + 0.0057199\tcv_agg's auc: 0.948735 + 0.0023252\n",
      "[160]\tcv_agg's res: 0.864202 + 0.00541687\tcv_agg's auc: 0.948674 + 0.00212464\n",
      "[170]\tcv_agg's res: 0.864634 + 0.00539378\tcv_agg's auc: 0.948653 + 0.0023119\n",
      "[180]\tcv_agg's res: 0.864379 + 0.00593571\tcv_agg's auc: 0.948969 + 0.00229604\n",
      "[190]\tcv_agg's res: 0.86443 + 0.00478318\tcv_agg's auc: 0.949055 + 0.00219332\n",
      "[200]\tcv_agg's res: 0.865009 + 0.00638168\tcv_agg's auc: 0.949277 + 0.00215146\n",
      "[210]\tcv_agg's res: 0.866869 + 0.00537734\tcv_agg's auc: 0.949413 + 0.00201847\n",
      "[220]\tcv_agg's res: 0.866487 + 0.00558959\tcv_agg's auc: 0.949518 + 0.00205708\n",
      "[230]\tcv_agg's res: 0.866593 + 0.00474557\tcv_agg's auc: 0.949694 + 0.00204757\n",
      "[240]\tcv_agg's res: 0.866269 + 0.00464564\tcv_agg's auc: 0.949895 + 0.00200057\n",
      "[250]\tcv_agg's res: 0.86695 + 0.00464194\tcv_agg's auc: 0.950289 + 0.0018377\n",
      "[260]\tcv_agg's res: 0.866549 + 0.00505962\tcv_agg's auc: 0.950362 + 0.00177416\n",
      "[270]\tcv_agg's res: 0.867027 + 0.00539233\tcv_agg's auc: 0.950415 + 0.00173058\n",
      "[280]\tcv_agg's res: 0.866313 + 0.00654881\tcv_agg's auc: 0.950706 + 0.00158749\n",
      "[290]\tcv_agg's res: 0.867277 + 0.0062036\tcv_agg's auc: 0.950831 + 0.00156642\n",
      "[300]\tcv_agg's res: 0.866903 + 0.00583529\tcv_agg's auc: 0.95095 + 0.00143535\n",
      "[310]\tcv_agg's res: 0.866519 + 0.00643757\tcv_agg's auc: 0.951051 + 0.00138806\n",
      "[320]\tcv_agg's res: 0.867516 + 0.00631196\tcv_agg's auc: 0.95123 + 0.00156202\n",
      "[330]\tcv_agg's res: 0.868001 + 0.00756147\tcv_agg's auc: 0.951295 + 0.00158178\n",
      "[340]\tcv_agg's res: 0.868496 + 0.00782755\tcv_agg's auc: 0.951378 + 0.00161712\n",
      "[350]\tcv_agg's res: 0.868127 + 0.00853171\tcv_agg's auc: 0.951503 + 0.00174514\n",
      "[360]\tcv_agg's res: 0.869036 + 0.00822351\tcv_agg's auc: 0.951536 + 0.00179389\n",
      "[370]\tcv_agg's res: 0.869134 + 0.00825024\tcv_agg's auc: 0.951699 + 0.00183597\n",
      "[380]\tcv_agg's res: 0.869566 + 0.0076091\tcv_agg's auc: 0.951678 + 0.00181962\n",
      "[390]\tcv_agg's res: 0.869586 + 0.00765303\tcv_agg's auc: 0.951711 + 0.00190347\n",
      "[400]\tcv_agg's res: 0.869176 + 0.00739375\tcv_agg's auc: 0.951769 + 0.00194574\n",
      "[410]\tcv_agg's res: 0.869245 + 0.00829726\tcv_agg's auc: 0.951883 + 0.00193629\n",
      "[420]\tcv_agg's res: 0.869253 + 0.00836799\tcv_agg's auc: 0.951897 + 0.00206933\n",
      "[430]\tcv_agg's res: 0.869259 + 0.00834354\tcv_agg's auc: 0.951908 + 0.00202975\n",
      "[440]\tcv_agg's res: 0.870164 + 0.00899768\tcv_agg's auc: 0.951932 + 0.00207055\n",
      "[450]\tcv_agg's res: 0.870188 + 0.00900273\tcv_agg's auc: 0.951971 + 0.00207746\n",
      "[460]\tcv_agg's res: 0.869774 + 0.00872432\tcv_agg's auc: 0.952023 + 0.00208322\n",
      "[470]\tcv_agg's res: 0.869788 + 0.00874283\tcv_agg's auc: 0.952048 + 0.00210492\n",
      "[480]\tcv_agg's res: 0.869784 + 0.0087987\tcv_agg's auc: 0.95204 + 0.00220303\n",
      "[490]\tcv_agg's res: 0.869825 + 0.00880326\tcv_agg's auc: 0.952109 + 0.00221283\n",
      "[500]\tcv_agg's res: 0.870319 + 0.00809941\tcv_agg's auc: 0.952192 + 0.00216047\n",
      "[510]\tcv_agg's res: 0.869455 + 0.0084159\tcv_agg's auc: 0.952234 + 0.00215936\n",
      "[520]\tcv_agg's res: 0.870397 + 0.00907048\tcv_agg's auc: 0.952319 + 0.00220583\n",
      "[530]\tcv_agg's res: 0.86999 + 0.00877531\tcv_agg's auc: 0.952384 + 0.00218001\n",
      "[540]\tcv_agg's res: 0.870459 + 0.00906187\tcv_agg's auc: 0.952424 + 0.00219866\n",
      "[550]\tcv_agg's res: 0.871367 + 0.00873542\tcv_agg's auc: 0.952453 + 0.00217044\n",
      "[560]\tcv_agg's res: 0.871388 + 0.00877027\tcv_agg's auc: 0.952489 + 0.00222663\n",
      "[570]\tcv_agg's res: 0.870944 + 0.00846395\tcv_agg's auc: 0.952492 + 0.00223305\n",
      "[580]\tcv_agg's res: 0.870495 + 0.00820383\tcv_agg's auc: 0.952484 + 0.00226073\n",
      "[590]\tcv_agg's res: 0.870496 + 0.00910113\tcv_agg's auc: 0.952484 + 0.00224488\n",
      "[600]\tcv_agg's res: 0.870529 + 0.00910566\tcv_agg's auc: 0.95254 + 0.00224935\n",
      "[610]\tcv_agg's res: 0.870074 + 0.00883208\tcv_agg's auc: 0.952523 + 0.00225639\n",
      "[620]\tcv_agg's res: 0.870541 + 0.00912299\tcv_agg's auc: 0.95256 + 0.00227182\n",
      "[630]\tcv_agg's res: 0.870088 + 0.00974716\tcv_agg's auc: 0.952546 + 0.00226166\n",
      "[640]\tcv_agg's res: 0.870108 + 0.00975526\tcv_agg's auc: 0.952579 + 0.0022767\n",
      "[650]\tcv_agg's res: 0.870106 + 0.00975828\tcv_agg's auc: 0.952576 + 0.00228426\n",
      "[660]\tcv_agg's res: 0.869647 + 0.00946729\tcv_agg's auc: 0.952553 + 0.00227029\n",
      "boost_round:561,res:0.871393011749146,auc:0.9524972875594031\n"
     ]
    }
   ],
   "source": [
    "res_cv = lgb.cv(lgb_params,dtrain_all,feval=evalMetric,early_stopping_rounds=100,verbose_eval=10,num_boost_round=10000,nfold=3,metrics=['evalMetric','auc'],seed=1000)\n",
    "print 'boost_round:%s,res:%s,auc:%s'%(len(res_cv['res-mean']),res_cv['res-mean'][-1],res_cv['auc-mean'][-1])"
   ]
  },
  {
   "cell_type": "code",
   "execution_count": null,
   "metadata": {
    "scrolled": false
   },
   "outputs": [],
   "source": [
    "model =lgb.train(lgb_params,dtrain_all,feval=evalMetric,verbose_eval=5,num_boost_round=int(len(res_cv['res-mean'])*1.5))"
   ]
  },
  {
   "cell_type": "code",
   "execution_count": null,
   "metadata": {},
   "outputs": [],
   "source": [
    "pred=model.predict(test.drop(['uid'],axis=1).values)"
   ]
  },
  {
   "cell_type": "code",
   "execution_count": null,
   "metadata": {},
   "outputs": [],
   "source": [
    "test.drop(['uid'],axis=1).values"
   ]
  },
  {
   "cell_type": "code",
   "execution_count": null,
   "metadata": {},
   "outputs": [],
   "source": [
    "res =pd.DataFrame({'uid':test.uid,'label':pred})\n"
   ]
  },
  {
   "cell_type": "code",
   "execution_count": null,
   "metadata": {},
   "outputs": [],
   "source": [
    "res.to_csv('../result/b/lgb/lgb-%0.4f-%0.4f-prob-nowa.csv'%(res_cv['res-mean'][-1],res_cv['auc-mean'][-1]),index=False,header=False,sep=',',columns=['uid','label'])"
   ]
  },
  {
   "cell_type": "code",
   "execution_count": null,
   "metadata": {},
   "outputs": [],
   "source": [
    "res=res.sort_values(by='label',ascending=False)\n",
    "index = int(len(res)*0.18)\n",
    "\n",
    "res.label[0:index] =int(1)\n",
    "res.label[index:] =int(0)\n",
    "res.label = res.label.map(lambda x: int(x))"
   ]
  },
  {
   "cell_type": "code",
   "execution_count": null,
   "metadata": {},
   "outputs": [],
   "source": [
    "res.to_csv('../result/b/lgb/lgb-%0.4f-%0.4f-nowa.csv'%(res_cv['res-mean'][-1],res_cv['auc-mean'][-1]),index=False,header=False,sep=',',columns=['uid','label'])"
   ]
  },
  {
   "cell_type": "code",
   "execution_count": null,
   "metadata": {},
   "outputs": [],
   "source": []
  }
 ],
 "metadata": {
  "kernelspec": {
   "display_name": "Python 2",
   "language": "python",
   "name": "python2"
  },
  "language_info": {
   "codemirror_mode": {
    "name": "ipython",
    "version": 2
   },
   "file_extension": ".py",
   "mimetype": "text/x-python",
   "name": "python",
   "nbconvert_exporter": "python",
   "pygments_lexer": "ipython2",
   "version": "2.7.6"
  }
 },
 "nbformat": 4,
 "nbformat_minor": 2
}
